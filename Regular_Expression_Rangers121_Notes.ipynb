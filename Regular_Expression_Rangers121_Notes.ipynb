{
 "cells": [
  {
   "cell_type": "markdown",
   "metadata": {},
   "source": [
    "# Regular Expressions"
   ]
  },
  {
   "cell_type": "markdown",
   "metadata": {},
   "source": [
    "# Tasks today:\n",
    "1) <b>Importing</b> <br>\n",
    "2) <b>Using Regular Expressions</b> <br>\n",
    " &nbsp;&nbsp;&nbsp;&nbsp; a) re.compile() <br>\n",
    " &nbsp;&nbsp;&nbsp;&nbsp; b) re.match() <br>\n",
    " &nbsp;&nbsp;&nbsp;&nbsp; c) re.findall() <br>\n",
    " &nbsp;&nbsp;&nbsp;&nbsp; d) re.search() <br>\n",
    "3) <b>Sets</b> <br>\n",
    " &nbsp;&nbsp;&nbsp;&nbsp; a) Integer Ranges <br>\n",
    " &nbsp;&nbsp;&nbsp;&nbsp; b) Character Ranges <br>\n",
    "4) <b>Counting Occurences</b> <br>\n",
    " &nbsp;&nbsp;&nbsp;&nbsp; a) {x} <br>\n",
    " &nbsp;&nbsp;&nbsp;&nbsp; b) {, x} <br>\n",
    " &nbsp;&nbsp;&nbsp;&nbsp; c) {?} <br>\n",
    " &nbsp;&nbsp;&nbsp;&nbsp; d) {*} <br>\n",
    " &nbsp;&nbsp;&nbsp;&nbsp; e) {+} <br>\n",
    "5) <b>In-Class Exercise #1</b> <br>\n",
    "6) <b>Escaping Characters</b> <br>\n",
    "7) <b>Grouping</b> <br>\n",
    "8) <b>In-Class Exercise #2</b> <br>\n",
    "9) <b>Opening a File</b> <br>\n",
    " &nbsp;&nbsp;&nbsp;&nbsp; a) open() <br>\n",
    " &nbsp;&nbsp;&nbsp;&nbsp; b) with open() <br>\n",
    " &nbsp;&nbsp;&nbsp;&nbsp; c) re.match() <br>\n",
    " &nbsp;&nbsp;&nbsp;&nbsp; d) re.search() <br>\n",
    " &nbsp;&nbsp;&nbsp;&nbsp; e) Store the String in a Variable <br>\n",
    "10) <b>Regex Project</b> <br>"
   ]
  },
  {
   "cell_type": "markdown",
   "metadata": {},
   "source": [
    "### Importing <br>\n",
    "<p>Regular Expressions are universal throughout most programming languages... They are generally imported through the module 're'.</p>"
   ]
  },
  {
   "cell_type": "code",
   "execution_count": 1,
   "metadata": {},
   "outputs": [],
   "source": [
    "# import re\n",
    "import re"
   ]
  },
  {
   "cell_type": "markdown",
   "metadata": {},
   "source": [
    "### Using Regular Expressions <br>\n",
    "<p>Regular expressions give us the ability to search for patterns within text, strings, files, etc. They serve several uses, such as; security measures, searching, filtering, pattern recognition, and more...</p>"
   ]
  },
  {
   "cell_type": "markdown",
   "metadata": {},
   "source": [
    "##### re.compile()"
   ]
  },
  {
   "cell_type": "code",
   "execution_count": 3,
   "metadata": {},
   "outputs": [],
   "source": [
    "#using compile, predetermines the string to be used in regular expression methods\n",
    "\n",
    "pattern = re.compile(\"abcd\")"
   ]
  },
  {
   "cell_type": "markdown",
   "metadata": {},
   "source": [
    "##### re.match()"
   ]
  },
  {
   "cell_type": "code",
   "execution_count": 9,
   "metadata": {},
   "outputs": [
    {
     "name": "stdout",
     "output_type": "stream",
     "text": [
      "<re.Match object; span=(0, 4), match='abcd'>\n",
      "(0, 4)\n",
      "Help on function match in module re:\n",
      "\n",
      "match(pattern, string, flags=0)\n",
      "    Try to apply the pattern at the start of the string, returning\n",
      "    a Match object, or None if no match was found.\n",
      "\n",
      "None\n"
     ]
    }
   ],
   "source": [
    "#return the first match and then stop\n",
    "#if it doesn't immediately find a match its going to stop searching\n",
    "\n",
    "\n",
    "match  = pattern.match(\"abcd123\")\n",
    "print(match)\n",
    "\n",
    "#access the span of the match\n",
    "print(match.span())\n",
    "help(re.match)\n",
    "re.match?\n",
    "\n",
    "match2 = pattern.match(\"123abcd\")\n",
    "print(match2)"
   ]
  },
  {
   "cell_type": "markdown",
   "metadata": {},
   "source": [
    "##### re.findall()"
   ]
  },
  {
   "cell_type": "code",
   "execution_count": 11,
   "metadata": {},
   "outputs": [
    {
     "name": "stdout",
     "output_type": "stream",
     "text": [
      "['abcd', 'abcd', 'abcd', 'abcd', 'abcd']\n",
      "Help on function findall in module re:\n",
      "\n",
      "findall(pattern, string, flags=0)\n",
      "    Return a list of all non-overlapping matches in the string.\n",
      "    \n",
      "    If one or more capturing groups are present in the pattern, return\n",
      "    a list of groups; this will be a list of tuples if the pattern\n",
      "    has more than one group.\n",
      "    \n",
      "    Empty matches are included in the result.\n",
      "\n"
     ]
    }
   ],
   "source": [
    "#return a list of matches\n",
    "pattern = re.compile(\"abcd\")\n",
    "finders = pattern.findall(\"123abcd abcd123 abcdabcd 123abcd123\")\n",
    "print(finders)\n",
    "\n",
    "help(re.findall)"
   ]
  },
  {
   "cell_type": "markdown",
   "metadata": {},
   "source": [
    "##### re.search()"
   ]
  },
  {
   "cell_type": "code",
   "execution_count": 16,
   "metadata": {},
   "outputs": [
    {
     "name": "stdout",
     "output_type": "stream",
     "text": [
      "Help on function search in module re:\n",
      "\n",
      "search(pattern, string, flags=0)\n",
      "    Scan through string looking for a match to the pattern, returning\n",
      "    a Match object, or None if no match was found.\n",
      "\n",
      "<re.Match object; span=(34, 38), match='abcd'>\n",
      "(34, 38)\n",
      "(34, 38) <class 'tuple'>\n",
      "abcd\n"
     ]
    }
   ],
   "source": [
    "#return the first instance of the pattern\n",
    "#it will search the entirety of the string before giving up\n",
    "\n",
    "help(re.search)\n",
    "\n",
    "pattern = re.compile(\"abcd\")\n",
    "\n",
    "random_string = \"123 123 12234 skjdhhfsjdhfgb 1234 abcd asdygasdashd\"\n",
    "search = pattern.search(random_string)\n",
    "print(search)\n",
    "span = search.span()\n",
    "print(span)\n",
    "\n",
    "print(span, type(span))\n",
    "print(random_string[span[0]: span[1]])"
   ]
  },
  {
   "cell_type": "markdown",
   "metadata": {},
   "source": [
    "### Sets <br>\n",
    "<p>The following cells will allow you to use regular expressions to search for certain values within a range such as numbers 1 through 4.</p>"
   ]
  },
  {
   "cell_type": "markdown",
   "metadata": {},
   "source": [
    "##### [a-z] or [A-Z] - any lowercase/uppercase letters from a to z<br/>[^2] - anything that's not 2"
   ]
  },
  {
   "cell_type": "markdown",
   "metadata": {},
   "source": [
    "##### Integer Ranges"
   ]
  },
  {
   "cell_type": "code",
   "execution_count": 20,
   "metadata": {},
   "outputs": [
    {
     "name": "stdout",
     "output_type": "stream",
     "text": [
      "(2, 5)\n",
      "<re.Match object; span=(2, 5), match='356'>\n"
     ]
    }
   ],
   "source": [
    "pattern = re.compile(\"[0-4][2-6][5-9]\")\n",
    "random_numbers = pattern.search(\"763569871\")\n",
    "span = (random_numbers.span())\n",
    "print(span)\n",
    "print(random_numbers)"
   ]
  },
  {
   "cell_type": "code",
   "execution_count": 25,
   "metadata": {},
   "outputs": [
    {
     "name": "stdout",
     "output_type": "stream",
     "text": [
      "<re.Match object; span=(4, 7), match='463'>\n",
      "['463', '840', '834']\n"
     ]
    }
   ],
   "source": [
    "pattern = re.compile(\"[0-9][0-7][0-5]\")\n",
    "more_nums = pattern.search('47894630989384098340')\n",
    "print(more_nums)\n",
    "found_list = pattern.findall('47894630989384098340')\n",
    "print(found_list)\n"
   ]
  },
  {
   "cell_type": "markdown",
   "metadata": {},
   "source": [
    "##### Character Ranges"
   ]
  },
  {
   "cell_type": "code",
   "execution_count": 26,
   "metadata": {},
   "outputs": [
    {
     "name": "stdout",
     "output_type": "stream",
     "text": [
      "['Hell', 'Ryan']\n"
     ]
    }
   ],
   "source": [
    "char_pattern = re.compile(\"[A-Z][a-z][a-z][a-z]\")\n",
    "\n",
    "found = char_pattern.findall(\"Hello my name is Ryan and i like to party, responsibly\")\n",
    "print(found)"
   ]
  },
  {
   "cell_type": "code",
   "execution_count": 28,
   "metadata": {},
   "outputs": [
    {
     "name": "stdout",
     "output_type": "stream",
     "text": [
      "['I', 'W', 'A', 'L', 'Y']\n"
     ]
    }
   ],
   "source": [
    "char_pattern = re.compile(\"[A-Z]\")\n",
    "\n",
    "found = char_pattern.findall(\"I Will Always Love Youuuuuuu\")\n",
    "print(found)"
   ]
  },
  {
   "cell_type": "markdown",
   "metadata": {},
   "source": [
    "### Counting Occurences"
   ]
  },
  {
   "cell_type": "markdown",
   "metadata": {},
   "source": [
    "##### {x} - something that occurs {num_of_times}"
   ]
  },
  {
   "cell_type": "code",
   "execution_count": 29,
   "metadata": {},
   "outputs": [
    {
     "name": "stdout",
     "output_type": "stream",
     "text": [
      "['BB8', 'DD4']\n"
     ]
    }
   ],
   "source": [
    "char_count = re.compile(\"[A-Z]{2}[0-9]\")\n",
    "found_count = char_count.findall(\"BB8 is pretty cool but I prefer R2D2 and C3PO. If i had a droid i would name it DD4\")\n",
    "\n",
    "print(found_count)"
   ]
  },
  {
   "cell_type": "code",
   "execution_count": 32,
   "metadata": {},
   "outputs": [
    {
     "name": "stdout",
     "output_type": "stream",
     "text": [
      "['Alex', 'Marc', 'Ryan', 'Kate']\n"
     ]
    }
   ],
   "source": [
    "char_count = re.compile(\"[A-Z][a-z]{3}\")\n",
    "\n",
    "statement = char_count.findall(\"some people in this class have names with only 4 letters. they are Alex, Marc, Ryan, and Kate.\")\n",
    "\n",
    "print(statement)"
   ]
  },
  {
   "cell_type": "markdown",
   "metadata": {},
   "source": [
    "##### {x, x} - something that occurs between x and x times"
   ]
  },
  {
   "cell_type": "code",
   "execution_count": 38,
   "metadata": {},
   "outputs": [
    {
     "name": "stdout",
     "output_type": "stream",
     "text": [
      "['m', 'm', 'mmmmm', 'm', 'mm', 'm', 'm', 'mmm', 'mm', 'mmmm']\n"
     ]
    }
   ],
   "source": [
    "random_pattern = re.compile(\"m{1,5}\")\n",
    "random_statement = random_pattern.findall(\"this is an example of trying to find between 1 m and 5 mmmmms. Here are more mms for example m mmm mm mmmm\")\n",
    "\n",
    "print(random_statement)"
   ]
  },
  {
   "cell_type": "code",
   "execution_count": 39,
   "metadata": {},
   "outputs": [
    {
     "name": "stdout",
     "output_type": "stream",
     "text": [
      "['17732025862']\n"
     ]
    }
   ],
   "source": [
    "potential_phone = re.compile(\"[0-9]{7,11}\")\n",
    "\n",
    "is_there_phone = potential_phone.findall(\"I tried to call your customer service at 17732025862.\")\n",
    "\n",
    "print(is_there_phone)"
   ]
  },
  {
   "cell_type": "markdown",
   "metadata": {},
   "source": [
    "##### ? - something that occurs 0 or 1 time"
   ]
  },
  {
   "cell_type": "code",
   "execution_count": 40,
   "metadata": {},
   "outputs": [
    {
     "name": "stdout",
     "output_type": "stream",
     "text": [
      "['Hello', 'name', 'like', 'part', 'also', 'here', 'like', 'part']\n"
     ]
    }
   ],
   "source": [
    "#optional\n",
    "pattern = re.compile(\"[A-Z]?[a-z]{4}\")\n",
    "\n",
    "found_pattern = pattern.findall(\"Hello my name is Ryan and i like to party and also Alex is here and may like to party\")\n",
    "print(found_pattern)"
   ]
  },
  {
   "cell_type": "code",
   "execution_count": 44,
   "metadata": {},
   "outputs": [
    {
     "name": "stdout",
     "output_type": "stream",
     "text": [
      "['c3', 'P0', 'R2', 'D2', '1', '2']\n"
     ]
    }
   ],
   "source": [
    "pattern = re.compile('[A-Z]?[a-z]?[0-9]')\n",
    "\n",
    "droid_names = pattern.findall(\"I am c3P0 Human Cyborg relations and this is my counterpart R2D2 beep boop beep boop also 12\")\n",
    "print(droid_names)"
   ]
  },
  {
   "cell_type": "markdown",
   "metadata": {},
   "source": [
    "##### * - something that occurs at least 0 times"
   ]
  },
  {
   "cell_type": "code",
   "execution_count": 47,
   "metadata": {},
   "outputs": [
    {
     "name": "stdout",
     "output_type": "stream",
     "text": [
      "['Hello', 'I', 'General', 'Kenobi', 'Leader', 'Republic', 'Army']\n"
     ]
    }
   ],
   "source": [
    "# .* -> wild card of sorts\n",
    "pattern = re.compile(\"[A-Z][a-z]*\")\n",
    "\n",
    "found_pattern = pattern.findall(\"Hello there, I am General Kenobi, Leader of the Republic Army.\")\n",
    "print(found_pattern)"
   ]
  },
  {
   "cell_type": "markdown",
   "metadata": {},
   "source": [
    "##### + - something that occurs at least once"
   ]
  },
  {
   "cell_type": "code",
   "execution_count": 48,
   "metadata": {},
   "outputs": [
    {
     "name": "stdout",
     "output_type": "stream",
     "text": [
      "['873638633', '19823798137', '219739723', '198237293']\n"
     ]
    }
   ],
   "source": [
    "pattern = re.compile(\"[0-9]+\")\n",
    "\n",
    "found_pattern = pattern.findall(\"Here are a few phone numbers: 873638633 19823798137 219739723 198237293\")\n",
    "print(found_pattern)"
   ]
  },
  {
   "cell_type": "code",
   "execution_count": 49,
   "metadata": {},
   "outputs": [
    {
     "name": "stdout",
     "output_type": "stream",
     "text": [
      "[]\n"
     ]
    }
   ],
   "source": [
    "pattern = re.compile(\"[0-9]+\")\n",
    "\n",
    "found_pattern = pattern.findall(\"I dont know anyones phone number\")\n",
    "\n",
    "print(found_pattern)"
   ]
  },
  {
   "cell_type": "markdown",
   "metadata": {},
   "source": [
    "##### In-class exercise 1: \n",
    "\n",
    "Use a regular expression to find a formatted phone number in the string"
   ]
  },
  {
   "cell_type": "code",
   "execution_count": 51,
   "metadata": {},
   "outputs": [
    {
     "name": "stdout",
     "output_type": "stream",
     "text": [
      "['773-202-5863', '630-852-8209']\n"
     ]
    }
   ],
   "source": [
    "phone_string = \"If you need some sweet carpets please call 773-202-5863 also you can call my parents at 630-852-8209 but you will have to travel to 1990.\"\n",
    "\n",
    "pattern = re.compile(\"[0-9]+[-][0-9]+[-][0-9]+\")\n",
    "\n",
    "found_pattern = pattern.findall(phone_string)\n",
    "\n",
    "print(found_pattern)"
   ]
  },
  {
   "cell_type": "markdown",
   "metadata": {},
   "source": [
    "### Escaping Characters"
   ]
  },
  {
   "cell_type": "markdown",
   "metadata": {},
   "source": [
    "##### \\w - look for any Unicode character<br/>\\W - look for anything that isnt a Unicode character\n",
    "\n",
    "[History on Unicode](http://unicode.org/standard/WhatIsUnicode.html)\n",
    "\n",
    "[More on Unicode Characters](https://en.wikipedia.org/wiki/List_of_Unicode_characters)"
   ]
  },
  {
   "cell_type": "code",
   "execution_count": 56,
   "metadata": {},
   "outputs": [
    {
     "name": "stdout",
     "output_type": "stream",
     "text": [
      "['This', 'is', 'a', 'sentence', 'with', 'an', 'exclamation', 'point', 'at', 'the', 'end', 'Also', 'please', 'don', 't', 'forget', 'to', 'floss']\n",
      "[' ', ' ', ' ', ' ', ' ', ' ', ' ', ' ', ' ', ' ', '! ', ', ', ' ', \"'\", ' ', ' ', ' ', '!']\n"
     ]
    }
   ],
   "source": [
    "pattern_1 = re.compile(\"[\\w]+\")\n",
    "found_1 = pattern_1.findall(\"This is a sentence with an exclamation point at the end! Also, please don't forget to floss!\")\n",
    "email_pattern = re.compile(\"[A-Z]*[\\W][0-9]*\")\n",
    "pattern_2 = re.compile(\"[\\W]+\")\n",
    "print(found_1)\n",
    "\n",
    "found_2 = pattern_2.findall(\"This is a sentence with an exclamation point at the end! Also, please don't forget to floss!\")\n",
    "print(found_2)"
   ]
  },
  {
   "cell_type": "markdown",
   "metadata": {},
   "source": [
    "##### \\d - look for any digit 0-9<br/>\\D - look for anything that isnt a digit"
   ]
  },
  {
   "cell_type": "code",
   "execution_count": 60,
   "metadata": {},
   "outputs": [
    {
     "name": "stdout",
     "output_type": "stream",
     "text": [
      "['12th', '13th', '17th', '21st']\n"
     ]
    }
   ],
   "source": [
    "#similar to [0-9] but you can't set ranges\n",
    "pattern_nums = re.compile(\"\\d{1,2}[a-z]{1,2}\")\n",
    "\n",
    "found_date = pattern_nums.findall(\"Today is the 12th. Tomorrow is the 13th, and in 5 days it will be the 17th and then 4 days later it will be the 21st.\")\n",
    "print(found_date)"
   ]
  },
  {
   "cell_type": "code",
   "execution_count": 61,
   "metadata": {},
   "outputs": [
    {
     "name": "stdout",
     "output_type": "stream",
     "text": [
      "['Today is the ', 'th. Tomorrow is the ', 'th, and in ', ' days it will be the ', 'th and then ', ' days later it will be the ', 'st.']\n"
     ]
    }
   ],
   "source": [
    "pattern_no_num = re.compile(\"\\D+\")\n",
    "\n",
    "found_date = pattern_no_num.findall(\"Today is the 12th. Tomorrow is the 13th, and in 5 days it will be the 17th and then 4 days later it will be the 21st.\")\n",
    "print(found_date)"
   ]
  },
  {
   "cell_type": "markdown",
   "metadata": {},
   "source": [
    "##### \\s - look for any white space<br/>\\S - look for anything that isnt whitespace"
   ]
  },
  {
   "cell_type": "code",
   "execution_count": 66,
   "metadata": {},
   "outputs": [
    {
     "name": "stdout",
     "output_type": "stream",
     "text": [
      "['        ', '          ', '         ', ' ', '    ']\n",
      "['Are', 'You', 'afraid', 'of', 'the', 'dark?']\n"
     ]
    }
   ],
   "source": [
    "no_space = re.compile(\"\\S+\")\n",
    "\n",
    "space = re.compile(\"\\s+\")\n",
    "\n",
    "found_space = space.findall(\"Are        You          afraid         of the    dark?\")\n",
    "\n",
    "print(found_space)\n",
    "\n",
    "no_found_space = no_space.findall(\"Are        You          afraid         of the    dark?\")\n",
    "print(no_found_space)"
   ]
  },
  {
   "cell_type": "markdown",
   "metadata": {},
   "source": [
    "##### \\b - look for boundaries or edges of a word<br/>\\B - look for anything that isnt a boundary"
   ]
  },
  {
   "cell_type": "code",
   "execution_count": 80,
   "metadata": {},
   "outputs": [
    {
     "name": "stdout",
     "output_type": "stream",
     "text": [
      "['cat']\n",
      "['cat']\n"
     ]
    }
   ],
   "source": [
    "new_pattern = re.compile(r\"\\bcat\\b\")\n",
    "\n",
    "cat_word = \"certificate\"\n",
    "cat_word2 = \"black cat\"\n",
    "found_cat = new_pattern.findall(cat_word)\n",
    "print(found_cat)\n",
    "found_cat2 = new_pattern.findall(cat_word2)\n",
    "print(found_cat2)"
   ]
  },
  {
   "cell_type": "code",
   "execution_count": 81,
   "metadata": {},
   "outputs": [
    {
     "name": "stdout",
     "output_type": "stream",
     "text": [
      "['cat']\n"
     ]
    }
   ],
   "source": [
    "new_pattern = re.compile(r\"\\Bcat\\B\")\n",
    "cat_word = \"certificate\"\n",
    "cat_bound = new_pattern.findall(cat_word)\n",
    "\n",
    "print(cat_bound)"
   ]
  },
  {
   "cell_type": "markdown",
   "metadata": {},
   "source": [
    "### Grouping"
   ]
  },
  {
   "cell_type": "code",
   "execution_count": 94,
   "metadata": {},
   "outputs": [
    {
     "name": "stdout",
     "output_type": "stream",
     "text": [
      "[('Max', 'Smith'), ('Sam', 'Darnold'), ('LeBron', 'James'), ('Micheal', 'Jordan'), ('Kevin', 'Durant'), ('Patrick', 'McCormick')]\n",
      "['Max Smith', ' aaron rodgers', ' Sam Darnold', ' LeBron James', ' Micheal Jordan', ' Kevin Durant', ' Patrick McCormick']\n",
      "Max Smith\n",
      "not a valid name\n",
      "Sam Darnold\n",
      "LeBron James\n",
      "Micheal Jordan\n",
      "Kevin Durant\n",
      "Patrick McCormick\n"
     ]
    }
   ],
   "source": [
    "my_string = \"Max Smith, aaron rodgers, Sam Darnold, LeBron James, Micheal Jordan, Kevin Durant, Patrick McCormick\"\n",
    "\n",
    "#creating our groups in our pattern\n",
    "pattern_name = re.compile(\"([A-Z][\\w]+)\\s([A-Z][A-z]+)\")\n",
    "                            #group 1    #group 2\n",
    "\n",
    "found_names = pattern_name.findall(my_string)\n",
    "print(found_names)\n",
    "\n",
    "list_strings = my_string.split(',')\n",
    "print(list_strings)\n",
    "\n",
    "for name in my_string.split(','):\n",
    "    match = pattern_name.search(name)\n",
    "    \n",
    "    if match:\n",
    "        print(match.group(1), match.group(2))\n",
    "        #or print(match.group())\n",
    "    else:\n",
    "        print(\"not a valid name\")"
   ]
  },
  {
   "cell_type": "markdown",
   "metadata": {},
   "source": [
    "##### In-class Exercise 2:\n",
    "\n",
    "Write a function using regular expressions to find the domain name in the given email addresses (and return None for the invalid email addresses)<br><b>HINT: Use '|' for either or</b>"
   ]
  },
  {
   "cell_type": "code",
   "execution_count": 105,
   "metadata": {},
   "outputs": [
    {
     "name": "stdout",
     "output_type": "stream",
     "text": [
      "[]\n",
      "None\n",
      "pocohontas1776@gmail.com\n",
      "None\n",
      "yourfavoriteband@g6.org\n",
      "None\n"
     ]
    },
    {
     "data": {
      "text/plain": [
       "'finished checking emails'"
      ]
     },
     "execution_count": 105,
     "metadata": {},
     "output_type": "execute_result"
    }
   ],
   "source": [
    "my_emails = [\"jordanw@codingtemple.orgcom\", \"pocohontas1776@gmail.com\", \"helloworld@aol..com\",\n",
    "             \"yourfavoriteband@g6.org\", \"@codingtemple.com\"]\n",
    "\n",
    "# You can also use the $ at the end of your compile expression -- this stops the search\n",
    "\n",
    "#.com OR .org => com|org\n",
    "\n",
    "#Expected output:\n",
    "#None\n",
    "#pocohontas1776@gmail.com\n",
    "#None\n",
    "#yourfavoriteband@g6.org\n",
    "#None\n",
    "\n",
    "pattern_email = re.compile(\"([A-z]+[0-9]*)@([A-z][0-9]+).(com|org|edu|net|io)\")\n",
    "found_emails = pattern_email.findall(my_emails[0])\n",
    "\n",
    "print(found_emails)\n",
    "\n",
    "def validate_email(email):\n",
    "    pattern_email = re.compile(\"([A-z]+[0-9]*)@([A-z0-9]+)(.com|.org|.edu|.net|.io)$\")\n",
    "    \n",
    "    if pattern_email.match(email):\n",
    "        return email\n",
    "    \n",
    "    else:\n",
    "        return None\n",
    "    \n",
    "def check_emails(emails):\n",
    "    for email in emails:\n",
    "        print(validate_email(email))\n",
    "    \n",
    "    return \"finished checking emails\"\n",
    "        \n",
    "check_emails(my_emails)"
   ]
  },
  {
   "cell_type": "markdown",
   "metadata": {},
   "source": [
    "### Opening a File <br>\n",
    "<p>Python gives us a couple ways to import files, below are the two used most often.</p>"
   ]
  },
  {
   "cell_type": "markdown",
   "metadata": {},
   "source": [
    "##### open()"
   ]
  },
  {
   "cell_type": "code",
   "execution_count": 116,
   "metadata": {},
   "outputs": [
    {
     "name": "stdout",
     "output_type": "stream",
     "text": [
      "Hawkins, Derek\tderek@codingtemple.com\t(555) 555-5555\tTeacher, Coding Temple\t@derekhawkins\n",
      "Zhai, Mo\tmozhai@codingtemple.com\t(555) 555-5554\tTeacher, Coding Temple\n",
      "Johnson, Joe\tjoejohnson@codingtemple.com\t\tJohson, Joe\n",
      "Osterberg, Sven-Erik\tgovernor@norrbotten.co.se\t\tGovernor, Norrbotten\t@sverik\n",
      ", Tim\ttim@killerrabbit.com\t\tEnchanter, Killer Rabbit Cave\n",
      "Butz, Ryan\tryanb@codingtemple.com\t(555) 555-5543\tCEO, Coding Temple\t@ryanbutz\n",
      "Doctor, The\tdoctor+companion@tardis.co.uk\t\tTime Lord, Gallifrey\n",
      "Exampleson, Example\tme@example.com\t555-555-5552\tExample, Example Co.\t@example\n",
      "Pael, Ripal\tripalp@codingtemple.com\t(555) 555-5553\tTeacher, Coding Temple\t@ripalp\n",
      "Vader, Darth\tdarth-vader@empire.gov\t(555) 555-4444\tSith Lord, Galactic Empire\t@darthvader\n",
      "Fernandez de la Vega Sanz, Maria Teresa\tmtfvs@spain.gov\t\tFirst Deputy Prime Minister, Spanish Gov\n",
      "\n"
     ]
    }
   ],
   "source": [
    "f = open(\"names.txt\", \"r+\")\n",
    "\n",
    "data = f.read()\n",
    "\n",
    "print(data)\n",
    "\n",
    "f.close()\n",
    "\n",
    "# test = f.write(\"hello from the other siiiiiiide\")\n",
    "\n",
    "# print(test)\n",
    "\n",
    "\n",
    "\n",
    "# data += \"hello\"\n",
    "# print(data)"
   ]
  },
  {
   "cell_type": "markdown",
   "metadata": {},
   "source": [
    "##### with open()"
   ]
  },
  {
   "cell_type": "code",
   "execution_count": 117,
   "metadata": {},
   "outputs": [
    {
     "name": "stdout",
     "output_type": "stream",
     "text": [
      "Hawkins, Derek\tderek@codingtemple.com\t(555) 555-5555\tTeacher, Coding Temple\t@derekhawkins\n",
      "Zhai, Mo\tmozhai@codingtemple.com\t(555) 555-5554\tTeacher, Coding Temple\n",
      "Johnson, Joe\tjoejohnson@codingtemple.com\t\tJohson, Joe\n",
      "Osterberg, Sven-Erik\tgovernor@norrbotten.co.se\t\tGovernor, Norrbotten\t@sverik\n",
      ", Tim\ttim@killerrabbit.com\t\tEnchanter, Killer Rabbit Cave\n",
      "Butz, Ryan\tryanb@codingtemple.com\t(555) 555-5543\tCEO, Coding Temple\t@ryanbutz\n",
      "Doctor, The\tdoctor+companion@tardis.co.uk\t\tTime Lord, Gallifrey\n",
      "Exampleson, Example\tme@example.com\t555-555-5552\tExample, Example Co.\t@example\n",
      "Pael, Ripal\tripalp@codingtemple.com\t(555) 555-5553\tTeacher, Coding Temple\t@ripalp\n",
      "Vader, Darth\tdarth-vader@empire.gov\t(555) 555-4444\tSith Lord, Galactic Empire\t@darthvader\n",
      "Fernandez de la Vega Sanz, Maria Teresa\tmtfvs@spain.gov\t\tFirst Deputy Prime Minister, Spanish Gov\n",
      "\n"
     ]
    }
   ],
   "source": [
    "with open(\"names.txt\") as f:\n",
    "    data = f.read()\n",
    "    print(data)"
   ]
  },
  {
   "cell_type": "markdown",
   "metadata": {},
   "source": [
    "##### re.match()"
   ]
  },
  {
   "cell_type": "code",
   "execution_count": 120,
   "metadata": {},
   "outputs": [
    {
     "name": "stdout",
     "output_type": "stream",
     "text": [
      "None\n",
      "<re.Match object; span=(0, 14), match='Hawkins, Derek'>\n"
     ]
    }
   ],
   "source": [
    "print(re.match(\"Vader, Darth\", data))\n",
    "\n",
    "print(re.match(\"Hawkins, Derek\", data))\n",
    "\n",
    "print(type(data))"
   ]
  },
  {
   "cell_type": "markdown",
   "metadata": {},
   "source": [
    "##### re.search()"
   ]
  },
  {
   "cell_type": "code",
   "execution_count": 123,
   "metadata": {},
   "outputs": [
    {
     "name": "stdout",
     "output_type": "stream",
     "text": [
      "<re.Match object; span=(652, 664), match='Vader, Darth'>\n",
      "<re.Match object; span=(582, 605), match='ripalp@codingtemple.com'>\n"
     ]
    }
   ],
   "source": [
    "print(re.search(\"Vader, Darth\", data))\n",
    "\n",
    "print(re.search(\"ripalp@codingtemple.com\", data))"
   ]
  },
  {
   "cell_type": "markdown",
   "metadata": {},
   "source": [
    "##### Store the String to a Variable"
   ]
  },
  {
   "cell_type": "code",
   "execution_count": 125,
   "metadata": {},
   "outputs": [
    {
     "name": "stdout",
     "output_type": "stream",
     "text": [
      "What would you like to search for? Vader, Darth\n",
      "I found your data: <re.Match object; span=(652, 664), match='Vader, Darth'>\n",
      "I found your data: ['Vader, Darth']\n"
     ]
    }
   ],
   "source": [
    "answer = input(\"What would you like to search for? \")\n",
    "\n",
    "found = re.search(answer, data)\n",
    "found_2 = re.findall(answer, data)\n",
    "\n",
    "if found:\n",
    "    print(f\"I found your data: {found}\")\n",
    "else:\n",
    "    print(\"That person does not exist\")\n",
    "    \n",
    "if found_2:\n",
    "    print(f\"I found your data: {found_2}\")\n",
    "else:\n",
    "    print(\"That person does not exist\")"
   ]
  },
  {
   "cell_type": "code",
   "execution_count": 126,
   "metadata": {},
   "outputs": [
    {
     "name": "stdout",
     "output_type": "stream",
     "text": [
      "['Hawkins, Derek\\tderek@codingtemple.com\\t(555) 555-5555\\tTeacher, Coding Temple\\t@derekhawkins\\n', 'Zhai, Mo\\tmozhai@codingtemple.com\\t(555) 555-5554\\tTeacher, Coding Temple\\n', 'Johnson, Joe\\tjoejohnson@codingtemple.com\\t\\tJohson, Joe\\n', 'Osterberg, Sven-Erik\\tgovernor@norrbotten.co.se\\t\\tGovernor, Norrbotten\\t@sverik\\n', ', Tim\\ttim@killerrabbit.com\\t\\tEnchanter, Killer Rabbit Cave\\n', 'Butz, Ryan\\tryanb@codingtemple.com\\t(555) 555-5543\\tCEO, Coding Temple\\t@ryanbutz\\n', 'Doctor, The\\tdoctor+companion@tardis.co.uk\\t\\tTime Lord, Gallifrey\\n', 'Exampleson, Example\\tme@example.com\\t555-555-5552\\tExample, Example Co.\\t@example\\n', 'Pael, Ripal\\tripalp@codingtemple.com\\t(555) 555-5553\\tTeacher, Coding Temple\\t@ripalp\\n', 'Vader, Darth\\tdarth-vader@empire.gov\\t(555) 555-4444\\tSith Lord, Galactic Empire\\t@darthvader\\n', 'Fernandez de la Vega Sanz, Maria Teresa\\tmtfvs@spain.gov\\t\\tFirst Deputy Prime Minister, Spanish Gov\\n']\n"
     ]
    }
   ],
   "source": [
    "with open(\"names.txt\") as f:\n",
    "    data = f.readlines()\n",
    "    print(data)"
   ]
  },
  {
   "cell_type": "markdown",
   "metadata": {},
   "source": [
    "### In-Class Exercise #3 <br>\n",
    "<p>Print each persons name and twitter handle, using groups, should look like:</p>\n",
    "<p>==============<br>\n",
    "   Full Name / Twitter<br>\n",
    "   ==============</p>\n",
    "Derek Hawkins / @derekhawkins\n",
    "\n",
    " Erik Sven-Osterberg / @sverik\n",
    "\n",
    " Ryan Butz / @ryanbutz\n",
    "\n",
    " Example Exampleson / @example\n",
    "\n",
    " Ripal Pael / @ripalp\n",
    "\n",
    " Darth Vader / @darthvader"
   ]
  },
  {
   "cell_type": "code",
   "execution_count": 145,
   "metadata": {
    "scrolled": true
   },
   "outputs": [
    {
     "name": "stdout",
     "output_type": "stream",
     "text": [
      "Derek Hawkins / @derekhawkins\n",
      "Sven Osterberg / @sverik\n",
      "Ryan Butz / @ryanbutz\n",
      "Example Exampleson / @example\n",
      "Ripal Pael / @ripalp\n",
      "Darth Vader / @darthvader\n"
     ]
    }
   ],
   "source": [
    "with open(\"names.txt\") as f:\n",
    "    data = f.readlines()\n",
    "#     print(data[0])\n",
    "    \n",
    "#     pattern_twitter = re.compile(r\"\\B[@][A-z]+\")\n",
    "    \n",
    "#     pattern_first = re.compile(\"[A-Z]{1}[A-z]+\")\n",
    "    \n",
    "#     all_first = pattern_first.findall(data[0])\n",
    "    \n",
    "#     all_twitter = pattern_twitter.findall(data[0])\n",
    "    \n",
    "#     print(all_twitter)\n",
    "#     print(all_first)\n",
    "    \n",
    "    for line in data:\n",
    "        pattern_twitter = re.compile(r\"\\B[@][A-z]+\")\n",
    "        pattern_first = re.compile(\"[A-Z]{1}[A-z]+\")\n",
    "        all_first = pattern_first.findall(line)\n",
    "        all_twitter = pattern_twitter.findall(line)\n",
    "#         print(all_twitter)\n",
    "#         print(all_first)\n",
    "        \n",
    "        if all_first and all_twitter:\n",
    "            print(f\"{all_first[1]} {all_first[0]} / {all_twitter[0]}\")\n",
    "        \n",
    "    "
   ]
  },
  {
   "cell_type": "markdown",
   "metadata": {},
   "source": [
    "### Regex project\n",
    "\n",
    "Use python to read the file regex_test.txt and print the last name on each line using regular expressions and groups (return None for names with no first and last name, or names that aren't properly capitalized)\n",
    "##### Hint: use with open() and readlines()"
   ]
  },
  {
   "cell_type": "code",
   "execution_count": null,
   "metadata": {},
   "outputs": [],
   "source": [
    "\"\"\"\n",
    "Expected Output\n",
    "Abraham Lincoln\n",
    "Andrew P Garfield\n",
    "Connor Milliken\n",
    "Jordan Alexander Williams\n",
    "None\n",
    "None\n",
    "\"\"\""
   ]
  },
  {
   "cell_type": "code",
   "execution_count": 195,
   "metadata": {},
   "outputs": [
    {
     "name": "stdout",
     "output_type": "stream",
     "text": [
      "Abraham Lincoln\n",
      "\n",
      "Abraham Lincoln\n",
      "Andrew P Garfield\n",
      "Connor Milliken\n",
      "Jordan Alexander Williams\n",
      "None\n",
      "None\n"
     ]
    }
   ],
   "source": [
    "with open(\"regex_test.txt\") as f:\n",
    "    data = f.readlines()\n",
    "    print(data[0])\n",
    "    \n",
    "    \n",
    "#     full_name = re.compile(\"[A-z]*\\s[A-z]*\\s[A-z]*\")\n",
    "#     full_name = re.compile(\"[A-Z]{1}[A-z]*\")\n",
    "#     final = full_name.findall(data[4])\n",
    "#     print(final)\n",
    "    \n",
    "    for line in data:\n",
    "        full_name = re.compile(\"[A-Z]{1}[A-z]*\")\n",
    "        final = full_name.findall(line)\n",
    "        \n",
    "        if final and len(final) != 1:\n",
    "            compiled = ''\n",
    "            for i in range(len(final)):\n",
    "                compiled += final[i] + ' '\n",
    "            print(compiled.rstrip())\n",
    "        else:\n",
    "            print(None)"
   ]
  }
 ],
 "metadata": {
  "kernelspec": {
   "display_name": "Python 3 (ipykernel)",
   "language": "python",
   "name": "python3"
  },
  "language_info": {
   "codemirror_mode": {
    "name": "ipython",
    "version": 3
   },
   "file_extension": ".py",
   "mimetype": "text/x-python",
   "name": "python",
   "nbconvert_exporter": "python",
   "pygments_lexer": "ipython3",
   "version": "3.10.10"
  }
 },
 "nbformat": 4,
 "nbformat_minor": 2
}
